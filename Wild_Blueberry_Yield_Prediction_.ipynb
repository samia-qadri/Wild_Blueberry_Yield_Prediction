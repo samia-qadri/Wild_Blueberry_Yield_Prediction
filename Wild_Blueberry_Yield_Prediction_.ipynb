{
  "nbformat": 4,
  "nbformat_minor": 0,
  "metadata": {
    "colab": {
      "provenance": []
    },
    "kernelspec": {
      "name": "python3",
      "display_name": "Python 3"
    },
    "language_info": {
      "name": "python"
    }
  },
  "cells": [
    {
      "cell_type": "code",
      "execution_count": 49,
      "metadata": {
        "id": "I6PUM60kT46J"
      },
      "outputs": [],
      "source": [
        "import pandas as pd\n",
        "import matplotlib.pyplot as plt\n",
        "import seaborn as sns"
      ]
    },
    {
      "cell_type": "code",
      "source": [
        "data=pd.read_csv(\"WildBlueberryPollinationSimulationData.csv\")"
      ],
      "metadata": {
        "id": "h1C0CC0FWfm0"
      },
      "execution_count": 50,
      "outputs": []
    },
    {
      "cell_type": "markdown",
      "source": [
        "Now Data understanding and Data cleaning:"
      ],
      "metadata": {
        "id": "XudmWMuvWuRU"
      }
    },
    {
      "cell_type": "code",
      "source": [
        "print(data.head())"
      ],
      "metadata": {
        "colab": {
          "base_uri": "https://localhost:8080/"
        },
        "id": "Otwdr1RLWtmc",
        "outputId": "15b97672-cc01-4144-d47f-512d02692c3a"
      },
      "execution_count": 51,
      "outputs": [
        {
          "output_type": "stream",
          "name": "stdout",
          "text": [
            "   Row#  clonesize  honeybee  bumbles  andrena  osmia  MaxOfUpperTRange  \\\n",
            "0     0       37.5      0.75     0.25     0.25   0.25              86.0   \n",
            "1     1       37.5      0.75     0.25     0.25   0.25              86.0   \n",
            "2     2       37.5      0.75     0.25     0.25   0.25              94.6   \n",
            "3     3       37.5      0.75     0.25     0.25   0.25              94.6   \n",
            "4     4       37.5      0.75     0.25     0.25   0.25              86.0   \n",
            "\n",
            "   MinOfUpperTRange  AverageOfUpperTRange  MaxOfLowerTRange  MinOfLowerTRange  \\\n",
            "0              52.0                  71.9              62.0              30.0   \n",
            "1              52.0                  71.9              62.0              30.0   \n",
            "2              57.2                  79.0              68.2              33.0   \n",
            "3              57.2                  79.0              68.2              33.0   \n",
            "4              52.0                  71.9              62.0              30.0   \n",
            "\n",
            "   AverageOfLowerTRange  RainingDays  AverageRainingDays  fruitset  fruitmass  \\\n",
            "0                  50.8         16.0                0.26  0.410652   0.408159   \n",
            "1                  50.8          1.0                0.10  0.444254   0.425458   \n",
            "2                  55.9         16.0                0.26  0.383787   0.399172   \n",
            "3                  55.9          1.0                0.10  0.407564   0.408789   \n",
            "4                  50.8         24.0                0.39  0.354413   0.382703   \n",
            "\n",
            "       seeds        yield  \n",
            "0  31.678898  3813.165795  \n",
            "1  33.449385  4947.605663  \n",
            "2  30.546306  3866.798965  \n",
            "3  31.562586  4303.943030  \n",
            "4  28.873714  3436.493543  \n"
          ]
        }
      ]
    },
    {
      "cell_type": "code",
      "source": [
        "data.info()"
      ],
      "metadata": {
        "colab": {
          "base_uri": "https://localhost:8080/"
        },
        "id": "zGiWrTyiXIgY",
        "outputId": "476cba90-10d7-4d4c-8390-968f377697c0"
      },
      "execution_count": 52,
      "outputs": [
        {
          "output_type": "stream",
          "name": "stdout",
          "text": [
            "<class 'pandas.core.frame.DataFrame'>\n",
            "RangeIndex: 777 entries, 0 to 776\n",
            "Data columns (total 18 columns):\n",
            " #   Column                Non-Null Count  Dtype  \n",
            "---  ------                --------------  -----  \n",
            " 0   Row#                  777 non-null    int64  \n",
            " 1   clonesize             777 non-null    float64\n",
            " 2   honeybee              777 non-null    float64\n",
            " 3   bumbles               777 non-null    float64\n",
            " 4   andrena               777 non-null    float64\n",
            " 5   osmia                 777 non-null    float64\n",
            " 6   MaxOfUpperTRange      777 non-null    float64\n",
            " 7   MinOfUpperTRange      777 non-null    float64\n",
            " 8   AverageOfUpperTRange  777 non-null    float64\n",
            " 9   MaxOfLowerTRange      777 non-null    float64\n",
            " 10  MinOfLowerTRange      777 non-null    float64\n",
            " 11  AverageOfLowerTRange  777 non-null    float64\n",
            " 12  RainingDays           777 non-null    float64\n",
            " 13  AverageRainingDays    777 non-null    float64\n",
            " 14  fruitset              777 non-null    float64\n",
            " 15  fruitmass             777 non-null    float64\n",
            " 16  seeds                 777 non-null    float64\n",
            " 17  yield                 777 non-null    float64\n",
            "dtypes: float64(17), int64(1)\n",
            "memory usage: 109.4 KB\n"
          ]
        }
      ]
    },
    {
      "cell_type": "code",
      "source": [
        "data.isnull().sum()"
      ],
      "metadata": {
        "colab": {
          "base_uri": "https://localhost:8080/",
          "height": 648
        },
        "id": "9xmvKex4XYhd",
        "outputId": "bc2553ba-a5e9-4189-ec9e-78c3fe0d807b"
      },
      "execution_count": 53,
      "outputs": [
        {
          "output_type": "execute_result",
          "data": {
            "text/plain": [
              "Row#                    0\n",
              "clonesize               0\n",
              "honeybee                0\n",
              "bumbles                 0\n",
              "andrena                 0\n",
              "osmia                   0\n",
              "MaxOfUpperTRange        0\n",
              "MinOfUpperTRange        0\n",
              "AverageOfUpperTRange    0\n",
              "MaxOfLowerTRange        0\n",
              "MinOfLowerTRange        0\n",
              "AverageOfLowerTRange    0\n",
              "RainingDays             0\n",
              "AverageRainingDays      0\n",
              "fruitset                0\n",
              "fruitmass               0\n",
              "seeds                   0\n",
              "yield                   0\n",
              "dtype: int64"
            ],
            "text/html": [
              "<div>\n",
              "<style scoped>\n",
              "    .dataframe tbody tr th:only-of-type {\n",
              "        vertical-align: middle;\n",
              "    }\n",
              "\n",
              "    .dataframe tbody tr th {\n",
              "        vertical-align: top;\n",
              "    }\n",
              "\n",
              "    .dataframe thead th {\n",
              "        text-align: right;\n",
              "    }\n",
              "</style>\n",
              "<table border=\"1\" class=\"dataframe\">\n",
              "  <thead>\n",
              "    <tr style=\"text-align: right;\">\n",
              "      <th></th>\n",
              "      <th>0</th>\n",
              "    </tr>\n",
              "  </thead>\n",
              "  <tbody>\n",
              "    <tr>\n",
              "      <th>Row#</th>\n",
              "      <td>0</td>\n",
              "    </tr>\n",
              "    <tr>\n",
              "      <th>clonesize</th>\n",
              "      <td>0</td>\n",
              "    </tr>\n",
              "    <tr>\n",
              "      <th>honeybee</th>\n",
              "      <td>0</td>\n",
              "    </tr>\n",
              "    <tr>\n",
              "      <th>bumbles</th>\n",
              "      <td>0</td>\n",
              "    </tr>\n",
              "    <tr>\n",
              "      <th>andrena</th>\n",
              "      <td>0</td>\n",
              "    </tr>\n",
              "    <tr>\n",
              "      <th>osmia</th>\n",
              "      <td>0</td>\n",
              "    </tr>\n",
              "    <tr>\n",
              "      <th>MaxOfUpperTRange</th>\n",
              "      <td>0</td>\n",
              "    </tr>\n",
              "    <tr>\n",
              "      <th>MinOfUpperTRange</th>\n",
              "      <td>0</td>\n",
              "    </tr>\n",
              "    <tr>\n",
              "      <th>AverageOfUpperTRange</th>\n",
              "      <td>0</td>\n",
              "    </tr>\n",
              "    <tr>\n",
              "      <th>MaxOfLowerTRange</th>\n",
              "      <td>0</td>\n",
              "    </tr>\n",
              "    <tr>\n",
              "      <th>MinOfLowerTRange</th>\n",
              "      <td>0</td>\n",
              "    </tr>\n",
              "    <tr>\n",
              "      <th>AverageOfLowerTRange</th>\n",
              "      <td>0</td>\n",
              "    </tr>\n",
              "    <tr>\n",
              "      <th>RainingDays</th>\n",
              "      <td>0</td>\n",
              "    </tr>\n",
              "    <tr>\n",
              "      <th>AverageRainingDays</th>\n",
              "      <td>0</td>\n",
              "    </tr>\n",
              "    <tr>\n",
              "      <th>fruitset</th>\n",
              "      <td>0</td>\n",
              "    </tr>\n",
              "    <tr>\n",
              "      <th>fruitmass</th>\n",
              "      <td>0</td>\n",
              "    </tr>\n",
              "    <tr>\n",
              "      <th>seeds</th>\n",
              "      <td>0</td>\n",
              "    </tr>\n",
              "    <tr>\n",
              "      <th>yield</th>\n",
              "      <td>0</td>\n",
              "    </tr>\n",
              "  </tbody>\n",
              "</table>\n",
              "</div><br><label><b>dtype:</b> int64</label>"
            ]
          },
          "metadata": {},
          "execution_count": 53
        }
      ]
    },
    {
      "cell_type": "code",
      "source": [
        "data.describe()"
      ],
      "metadata": {
        "colab": {
          "base_uri": "https://localhost:8080/",
          "height": 320
        },
        "id": "tJTiTS2QY2Dg",
        "outputId": "54831fd5-dfcc-4b8b-a5c3-180884153916"
      },
      "execution_count": 54,
      "outputs": [
        {
          "output_type": "execute_result",
          "data": {
            "text/plain": [
              "             Row#   clonesize    honeybee     bumbles     andrena       osmia  \\\n",
              "count  777.000000  777.000000  777.000000  777.000000  777.000000  777.000000   \n",
              "mean   388.000000   18.767696    0.417133    0.282389    0.468817    0.562062   \n",
              "std    224.444871    6.999063    0.978904    0.066343    0.161052    0.169119   \n",
              "min      0.000000   10.000000    0.000000    0.000000    0.000000    0.000000   \n",
              "25%    194.000000   12.500000    0.250000    0.250000    0.380000    0.500000   \n",
              "50%    388.000000   12.500000    0.250000    0.250000    0.500000    0.630000   \n",
              "75%    582.000000   25.000000    0.500000    0.380000    0.630000    0.750000   \n",
              "max    776.000000   40.000000   18.430000    0.585000    0.750000    0.750000   \n",
              "\n",
              "       MaxOfUpperTRange  MinOfUpperTRange  AverageOfUpperTRange  \\\n",
              "count        777.000000        777.000000            777.000000   \n",
              "mean          82.277091         49.700515             68.723037   \n",
              "std            9.193745          5.595769              7.676984   \n",
              "min           69.700000         39.000000             58.200000   \n",
              "25%           77.400000         46.800000             64.700000   \n",
              "50%           86.000000         52.000000             71.900000   \n",
              "75%           89.000000         52.000000             71.900000   \n",
              "max           94.600000         57.200000             79.000000   \n",
              "\n",
              "       MaxOfLowerTRange  MinOfLowerTRange  AverageOfLowerTRange  RainingDays  \\\n",
              "count        777.000000        777.000000            777.000000   777.000000   \n",
              "mean          59.309395         28.690219             48.613127    18.309292   \n",
              "std            6.647760          3.209547              5.417072    12.124226   \n",
              "min           50.200000         24.300000             41.200000     1.000000   \n",
              "25%           55.800000         27.000000             45.800000     3.770000   \n",
              "50%           62.000000         30.000000             50.800000    16.000000   \n",
              "75%           66.000000         30.000000             50.800000    24.000000   \n",
              "max           68.200000         33.000000             55.900000    34.000000   \n",
              "\n",
              "       AverageRainingDays    fruitset   fruitmass       seeds        yield  \n",
              "count          777.000000  777.000000  777.000000  777.000000   777.000000  \n",
              "mean             0.320000    0.502121    0.445983   36.122432  6012.849165  \n",
              "std              0.171279    0.079445    0.040333    4.377889  1356.955318  \n",
              "min              0.060000    0.192732    0.311921   22.079199  1637.704022  \n",
              "25%              0.100000    0.454725    0.416281   33.116091  5124.854901  \n",
              "50%              0.260000    0.508297    0.445587   36.166044  6107.382466  \n",
              "75%              0.390000    0.561297    0.476149   39.239668  7022.189731  \n",
              "max              0.560000    0.652144    0.535660   46.585105  8969.401842  "
            ],
            "text/html": [
              "\n",
              "  <div id=\"df-4354c40f-6ef6-4c7b-89f2-9db3a715c009\" class=\"colab-df-container\">\n",
              "    <div>\n",
              "<style scoped>\n",
              "    .dataframe tbody tr th:only-of-type {\n",
              "        vertical-align: middle;\n",
              "    }\n",
              "\n",
              "    .dataframe tbody tr th {\n",
              "        vertical-align: top;\n",
              "    }\n",
              "\n",
              "    .dataframe thead th {\n",
              "        text-align: right;\n",
              "    }\n",
              "</style>\n",
              "<table border=\"1\" class=\"dataframe\">\n",
              "  <thead>\n",
              "    <tr style=\"text-align: right;\">\n",
              "      <th></th>\n",
              "      <th>Row#</th>\n",
              "      <th>clonesize</th>\n",
              "      <th>honeybee</th>\n",
              "      <th>bumbles</th>\n",
              "      <th>andrena</th>\n",
              "      <th>osmia</th>\n",
              "      <th>MaxOfUpperTRange</th>\n",
              "      <th>MinOfUpperTRange</th>\n",
              "      <th>AverageOfUpperTRange</th>\n",
              "      <th>MaxOfLowerTRange</th>\n",
              "      <th>MinOfLowerTRange</th>\n",
              "      <th>AverageOfLowerTRange</th>\n",
              "      <th>RainingDays</th>\n",
              "      <th>AverageRainingDays</th>\n",
              "      <th>fruitset</th>\n",
              "      <th>fruitmass</th>\n",
              "      <th>seeds</th>\n",
              "      <th>yield</th>\n",
              "    </tr>\n",
              "  </thead>\n",
              "  <tbody>\n",
              "    <tr>\n",
              "      <th>count</th>\n",
              "      <td>777.000000</td>\n",
              "      <td>777.000000</td>\n",
              "      <td>777.000000</td>\n",
              "      <td>777.000000</td>\n",
              "      <td>777.000000</td>\n",
              "      <td>777.000000</td>\n",
              "      <td>777.000000</td>\n",
              "      <td>777.000000</td>\n",
              "      <td>777.000000</td>\n",
              "      <td>777.000000</td>\n",
              "      <td>777.000000</td>\n",
              "      <td>777.000000</td>\n",
              "      <td>777.000000</td>\n",
              "      <td>777.000000</td>\n",
              "      <td>777.000000</td>\n",
              "      <td>777.000000</td>\n",
              "      <td>777.000000</td>\n",
              "      <td>777.000000</td>\n",
              "    </tr>\n",
              "    <tr>\n",
              "      <th>mean</th>\n",
              "      <td>388.000000</td>\n",
              "      <td>18.767696</td>\n",
              "      <td>0.417133</td>\n",
              "      <td>0.282389</td>\n",
              "      <td>0.468817</td>\n",
              "      <td>0.562062</td>\n",
              "      <td>82.277091</td>\n",
              "      <td>49.700515</td>\n",
              "      <td>68.723037</td>\n",
              "      <td>59.309395</td>\n",
              "      <td>28.690219</td>\n",
              "      <td>48.613127</td>\n",
              "      <td>18.309292</td>\n",
              "      <td>0.320000</td>\n",
              "      <td>0.502121</td>\n",
              "      <td>0.445983</td>\n",
              "      <td>36.122432</td>\n",
              "      <td>6012.849165</td>\n",
              "    </tr>\n",
              "    <tr>\n",
              "      <th>std</th>\n",
              "      <td>224.444871</td>\n",
              "      <td>6.999063</td>\n",
              "      <td>0.978904</td>\n",
              "      <td>0.066343</td>\n",
              "      <td>0.161052</td>\n",
              "      <td>0.169119</td>\n",
              "      <td>9.193745</td>\n",
              "      <td>5.595769</td>\n",
              "      <td>7.676984</td>\n",
              "      <td>6.647760</td>\n",
              "      <td>3.209547</td>\n",
              "      <td>5.417072</td>\n",
              "      <td>12.124226</td>\n",
              "      <td>0.171279</td>\n",
              "      <td>0.079445</td>\n",
              "      <td>0.040333</td>\n",
              "      <td>4.377889</td>\n",
              "      <td>1356.955318</td>\n",
              "    </tr>\n",
              "    <tr>\n",
              "      <th>min</th>\n",
              "      <td>0.000000</td>\n",
              "      <td>10.000000</td>\n",
              "      <td>0.000000</td>\n",
              "      <td>0.000000</td>\n",
              "      <td>0.000000</td>\n",
              "      <td>0.000000</td>\n",
              "      <td>69.700000</td>\n",
              "      <td>39.000000</td>\n",
              "      <td>58.200000</td>\n",
              "      <td>50.200000</td>\n",
              "      <td>24.300000</td>\n",
              "      <td>41.200000</td>\n",
              "      <td>1.000000</td>\n",
              "      <td>0.060000</td>\n",
              "      <td>0.192732</td>\n",
              "      <td>0.311921</td>\n",
              "      <td>22.079199</td>\n",
              "      <td>1637.704022</td>\n",
              "    </tr>\n",
              "    <tr>\n",
              "      <th>25%</th>\n",
              "      <td>194.000000</td>\n",
              "      <td>12.500000</td>\n",
              "      <td>0.250000</td>\n",
              "      <td>0.250000</td>\n",
              "      <td>0.380000</td>\n",
              "      <td>0.500000</td>\n",
              "      <td>77.400000</td>\n",
              "      <td>46.800000</td>\n",
              "      <td>64.700000</td>\n",
              "      <td>55.800000</td>\n",
              "      <td>27.000000</td>\n",
              "      <td>45.800000</td>\n",
              "      <td>3.770000</td>\n",
              "      <td>0.100000</td>\n",
              "      <td>0.454725</td>\n",
              "      <td>0.416281</td>\n",
              "      <td>33.116091</td>\n",
              "      <td>5124.854901</td>\n",
              "    </tr>\n",
              "    <tr>\n",
              "      <th>50%</th>\n",
              "      <td>388.000000</td>\n",
              "      <td>12.500000</td>\n",
              "      <td>0.250000</td>\n",
              "      <td>0.250000</td>\n",
              "      <td>0.500000</td>\n",
              "      <td>0.630000</td>\n",
              "      <td>86.000000</td>\n",
              "      <td>52.000000</td>\n",
              "      <td>71.900000</td>\n",
              "      <td>62.000000</td>\n",
              "      <td>30.000000</td>\n",
              "      <td>50.800000</td>\n",
              "      <td>16.000000</td>\n",
              "      <td>0.260000</td>\n",
              "      <td>0.508297</td>\n",
              "      <td>0.445587</td>\n",
              "      <td>36.166044</td>\n",
              "      <td>6107.382466</td>\n",
              "    </tr>\n",
              "    <tr>\n",
              "      <th>75%</th>\n",
              "      <td>582.000000</td>\n",
              "      <td>25.000000</td>\n",
              "      <td>0.500000</td>\n",
              "      <td>0.380000</td>\n",
              "      <td>0.630000</td>\n",
              "      <td>0.750000</td>\n",
              "      <td>89.000000</td>\n",
              "      <td>52.000000</td>\n",
              "      <td>71.900000</td>\n",
              "      <td>66.000000</td>\n",
              "      <td>30.000000</td>\n",
              "      <td>50.800000</td>\n",
              "      <td>24.000000</td>\n",
              "      <td>0.390000</td>\n",
              "      <td>0.561297</td>\n",
              "      <td>0.476149</td>\n",
              "      <td>39.239668</td>\n",
              "      <td>7022.189731</td>\n",
              "    </tr>\n",
              "    <tr>\n",
              "      <th>max</th>\n",
              "      <td>776.000000</td>\n",
              "      <td>40.000000</td>\n",
              "      <td>18.430000</td>\n",
              "      <td>0.585000</td>\n",
              "      <td>0.750000</td>\n",
              "      <td>0.750000</td>\n",
              "      <td>94.600000</td>\n",
              "      <td>57.200000</td>\n",
              "      <td>79.000000</td>\n",
              "      <td>68.200000</td>\n",
              "      <td>33.000000</td>\n",
              "      <td>55.900000</td>\n",
              "      <td>34.000000</td>\n",
              "      <td>0.560000</td>\n",
              "      <td>0.652144</td>\n",
              "      <td>0.535660</td>\n",
              "      <td>46.585105</td>\n",
              "      <td>8969.401842</td>\n",
              "    </tr>\n",
              "  </tbody>\n",
              "</table>\n",
              "</div>\n",
              "    <div class=\"colab-df-buttons\">\n",
              "\n",
              "  <div class=\"colab-df-container\">\n",
              "    <button class=\"colab-df-convert\" onclick=\"convertToInteractive('df-4354c40f-6ef6-4c7b-89f2-9db3a715c009')\"\n",
              "            title=\"Convert this dataframe to an interactive table.\"\n",
              "            style=\"display:none;\">\n",
              "\n",
              "  <svg xmlns=\"http://www.w3.org/2000/svg\" height=\"24px\" viewBox=\"0 -960 960 960\">\n",
              "    <path d=\"M120-120v-720h720v720H120Zm60-500h600v-160H180v160Zm220 220h160v-160H400v160Zm0 220h160v-160H400v160ZM180-400h160v-160H180v160Zm440 0h160v-160H620v160ZM180-180h160v-160H180v160Zm440 0h160v-160H620v160Z\"/>\n",
              "  </svg>\n",
              "    </button>\n",
              "\n",
              "  <style>\n",
              "    .colab-df-container {\n",
              "      display:flex;\n",
              "      gap: 12px;\n",
              "    }\n",
              "\n",
              "    .colab-df-convert {\n",
              "      background-color: #E8F0FE;\n",
              "      border: none;\n",
              "      border-radius: 50%;\n",
              "      cursor: pointer;\n",
              "      display: none;\n",
              "      fill: #1967D2;\n",
              "      height: 32px;\n",
              "      padding: 0 0 0 0;\n",
              "      width: 32px;\n",
              "    }\n",
              "\n",
              "    .colab-df-convert:hover {\n",
              "      background-color: #E2EBFA;\n",
              "      box-shadow: 0px 1px 2px rgba(60, 64, 67, 0.3), 0px 1px 3px 1px rgba(60, 64, 67, 0.15);\n",
              "      fill: #174EA6;\n",
              "    }\n",
              "\n",
              "    .colab-df-buttons div {\n",
              "      margin-bottom: 4px;\n",
              "    }\n",
              "\n",
              "    [theme=dark] .colab-df-convert {\n",
              "      background-color: #3B4455;\n",
              "      fill: #D2E3FC;\n",
              "    }\n",
              "\n",
              "    [theme=dark] .colab-df-convert:hover {\n",
              "      background-color: #434B5C;\n",
              "      box-shadow: 0px 1px 3px 1px rgba(0, 0, 0, 0.15);\n",
              "      filter: drop-shadow(0px 1px 2px rgba(0, 0, 0, 0.3));\n",
              "      fill: #FFFFFF;\n",
              "    }\n",
              "  </style>\n",
              "\n",
              "    <script>\n",
              "      const buttonEl =\n",
              "        document.querySelector('#df-4354c40f-6ef6-4c7b-89f2-9db3a715c009 button.colab-df-convert');\n",
              "      buttonEl.style.display =\n",
              "        google.colab.kernel.accessAllowed ? 'block' : 'none';\n",
              "\n",
              "      async function convertToInteractive(key) {\n",
              "        const element = document.querySelector('#df-4354c40f-6ef6-4c7b-89f2-9db3a715c009');\n",
              "        const dataTable =\n",
              "          await google.colab.kernel.invokeFunction('convertToInteractive',\n",
              "                                                    [key], {});\n",
              "        if (!dataTable) return;\n",
              "\n",
              "        const docLinkHtml = 'Like what you see? Visit the ' +\n",
              "          '<a target=\"_blank\" href=https://colab.research.google.com/notebooks/data_table.ipynb>data table notebook</a>'\n",
              "          + ' to learn more about interactive tables.';\n",
              "        element.innerHTML = '';\n",
              "        dataTable['output_type'] = 'display_data';\n",
              "        await google.colab.output.renderOutput(dataTable, element);\n",
              "        const docLink = document.createElement('div');\n",
              "        docLink.innerHTML = docLinkHtml;\n",
              "        element.appendChild(docLink);\n",
              "      }\n",
              "    </script>\n",
              "  </div>\n",
              "\n",
              "\n",
              "    <div id=\"df-88a96d1c-c86c-4a50-9ae5-698d4506fc02\">\n",
              "      <button class=\"colab-df-quickchart\" onclick=\"quickchart('df-88a96d1c-c86c-4a50-9ae5-698d4506fc02')\"\n",
              "                title=\"Suggest charts\"\n",
              "                style=\"display:none;\">\n",
              "\n",
              "<svg xmlns=\"http://www.w3.org/2000/svg\" height=\"24px\"viewBox=\"0 0 24 24\"\n",
              "     width=\"24px\">\n",
              "    <g>\n",
              "        <path d=\"M19 3H5c-1.1 0-2 .9-2 2v14c0 1.1.9 2 2 2h14c1.1 0 2-.9 2-2V5c0-1.1-.9-2-2-2zM9 17H7v-7h2v7zm4 0h-2V7h2v10zm4 0h-2v-4h2v4z\"/>\n",
              "    </g>\n",
              "</svg>\n",
              "      </button>\n",
              "\n",
              "<style>\n",
              "  .colab-df-quickchart {\n",
              "      --bg-color: #E8F0FE;\n",
              "      --fill-color: #1967D2;\n",
              "      --hover-bg-color: #E2EBFA;\n",
              "      --hover-fill-color: #174EA6;\n",
              "      --disabled-fill-color: #AAA;\n",
              "      --disabled-bg-color: #DDD;\n",
              "  }\n",
              "\n",
              "  [theme=dark] .colab-df-quickchart {\n",
              "      --bg-color: #3B4455;\n",
              "      --fill-color: #D2E3FC;\n",
              "      --hover-bg-color: #434B5C;\n",
              "      --hover-fill-color: #FFFFFF;\n",
              "      --disabled-bg-color: #3B4455;\n",
              "      --disabled-fill-color: #666;\n",
              "  }\n",
              "\n",
              "  .colab-df-quickchart {\n",
              "    background-color: var(--bg-color);\n",
              "    border: none;\n",
              "    border-radius: 50%;\n",
              "    cursor: pointer;\n",
              "    display: none;\n",
              "    fill: var(--fill-color);\n",
              "    height: 32px;\n",
              "    padding: 0;\n",
              "    width: 32px;\n",
              "  }\n",
              "\n",
              "  .colab-df-quickchart:hover {\n",
              "    background-color: var(--hover-bg-color);\n",
              "    box-shadow: 0 1px 2px rgba(60, 64, 67, 0.3), 0 1px 3px 1px rgba(60, 64, 67, 0.15);\n",
              "    fill: var(--button-hover-fill-color);\n",
              "  }\n",
              "\n",
              "  .colab-df-quickchart-complete:disabled,\n",
              "  .colab-df-quickchart-complete:disabled:hover {\n",
              "    background-color: var(--disabled-bg-color);\n",
              "    fill: var(--disabled-fill-color);\n",
              "    box-shadow: none;\n",
              "  }\n",
              "\n",
              "  .colab-df-spinner {\n",
              "    border: 2px solid var(--fill-color);\n",
              "    border-color: transparent;\n",
              "    border-bottom-color: var(--fill-color);\n",
              "    animation:\n",
              "      spin 1s steps(1) infinite;\n",
              "  }\n",
              "\n",
              "  @keyframes spin {\n",
              "    0% {\n",
              "      border-color: transparent;\n",
              "      border-bottom-color: var(--fill-color);\n",
              "      border-left-color: var(--fill-color);\n",
              "    }\n",
              "    20% {\n",
              "      border-color: transparent;\n",
              "      border-left-color: var(--fill-color);\n",
              "      border-top-color: var(--fill-color);\n",
              "    }\n",
              "    30% {\n",
              "      border-color: transparent;\n",
              "      border-left-color: var(--fill-color);\n",
              "      border-top-color: var(--fill-color);\n",
              "      border-right-color: var(--fill-color);\n",
              "    }\n",
              "    40% {\n",
              "      border-color: transparent;\n",
              "      border-right-color: var(--fill-color);\n",
              "      border-top-color: var(--fill-color);\n",
              "    }\n",
              "    60% {\n",
              "      border-color: transparent;\n",
              "      border-right-color: var(--fill-color);\n",
              "    }\n",
              "    80% {\n",
              "      border-color: transparent;\n",
              "      border-right-color: var(--fill-color);\n",
              "      border-bottom-color: var(--fill-color);\n",
              "    }\n",
              "    90% {\n",
              "      border-color: transparent;\n",
              "      border-bottom-color: var(--fill-color);\n",
              "    }\n",
              "  }\n",
              "</style>\n",
              "\n",
              "      <script>\n",
              "        async function quickchart(key) {\n",
              "          const quickchartButtonEl =\n",
              "            document.querySelector('#' + key + ' button');\n",
              "          quickchartButtonEl.disabled = true;  // To prevent multiple clicks.\n",
              "          quickchartButtonEl.classList.add('colab-df-spinner');\n",
              "          try {\n",
              "            const charts = await google.colab.kernel.invokeFunction(\n",
              "                'suggestCharts', [key], {});\n",
              "          } catch (error) {\n",
              "            console.error('Error during call to suggestCharts:', error);\n",
              "          }\n",
              "          quickchartButtonEl.classList.remove('colab-df-spinner');\n",
              "          quickchartButtonEl.classList.add('colab-df-quickchart-complete');\n",
              "        }\n",
              "        (() => {\n",
              "          let quickchartButtonEl =\n",
              "            document.querySelector('#df-88a96d1c-c86c-4a50-9ae5-698d4506fc02 button');\n",
              "          quickchartButtonEl.style.display =\n",
              "            google.colab.kernel.accessAllowed ? 'block' : 'none';\n",
              "        })();\n",
              "      </script>\n",
              "    </div>\n",
              "\n",
              "    </div>\n",
              "  </div>\n"
            ],
            "application/vnd.google.colaboratory.intrinsic+json": {
              "type": "dataframe",
              "summary": "{\n  \"name\": \"data\",\n  \"rows\": 8,\n  \"fields\": [\n    {\n      \"column\": \"Row#\",\n      \"properties\": {\n        \"dtype\": \"number\",\n        \"std\": 279.8157829181449,\n        \"min\": 0.0,\n        \"max\": 777.0,\n        \"num_unique_values\": 7,\n        \"samples\": [\n          777.0,\n          388.0,\n          582.0\n        ],\n        \"semantic_type\": \"\",\n        \"description\": \"\"\n      }\n    },\n    {\n      \"column\": \"clonesize\",\n      \"properties\": {\n        \"dtype\": \"number\",\n        \"std\": 268.5660960516546,\n        \"min\": 6.999062821682254,\n        \"max\": 777.0,\n        \"num_unique_values\": 7,\n        \"samples\": [\n          777.0,\n          18.767696267696266,\n          25.0\n        ],\n        \"semantic_type\": \"\",\n        \"description\": \"\"\n      }\n    },\n    {\n      \"column\": \"honeybee\",\n      \"properties\": {\n        \"dtype\": \"number\",\n        \"std\": 273.7319789545609,\n        \"min\": 0.0,\n        \"max\": 777.0,\n        \"num_unique_values\": 7,\n        \"samples\": [\n          777.0,\n          0.4171325611325611,\n          0.5\n        ],\n        \"semantic_type\": \"\",\n        \"description\": \"\"\n      }\n    },\n    {\n      \"column\": \"bumbles\",\n      \"properties\": {\n        \"dtype\": \"number\",\n        \"std\": 274.61943592325474,\n        \"min\": 0.0,\n        \"max\": 777.0,\n        \"num_unique_values\": 7,\n        \"samples\": [\n          777.0,\n          0.2823886743886744,\n          0.38\n        ],\n        \"semantic_type\": \"\",\n        \"description\": \"\"\n      }\n    },\n    {\n      \"column\": \"andrena\",\n      \"properties\": {\n        \"dtype\": \"number\",\n        \"std\": 274.56512979458853,\n        \"min\": 0.0,\n        \"max\": 777.0,\n        \"num_unique_values\": 8,\n        \"samples\": [\n          0.46881724581724576,\n          0.5,\n          777.0\n        ],\n        \"semantic_type\": \"\",\n        \"description\": \"\"\n      }\n    },\n    {\n      \"column\": \"osmia\",\n      \"properties\": {\n        \"dtype\": \"number\",\n        \"std\": 274.5413499394001,\n        \"min\": 0.0,\n        \"max\": 777.0,\n        \"num_unique_values\": 7,\n        \"samples\": [\n          777.0,\n          0.562061776061776,\n          0.63\n        ],\n        \"semantic_type\": \"\",\n        \"description\": \"\"\n      }\n    },\n    {\n      \"column\": \"MaxOfUpperTRange\",\n      \"properties\": {\n        \"dtype\": \"number\",\n        \"std\": 250.49666237339073,\n        \"min\": 9.193744527461451,\n        \"max\": 777.0,\n        \"num_unique_values\": 8,\n        \"samples\": [\n          82.27709137709138,\n          86.0,\n          777.0\n        ],\n        \"semantic_type\": \"\",\n        \"description\": \"\"\n      }\n    },\n    {\n      \"column\": \"MinOfUpperTRange\",\n      \"properties\": {\n        \"dtype\": \"number\",\n        \"std\": 259.94820234656777,\n        \"min\": 5.595768812291841,\n        \"max\": 777.0,\n        \"num_unique_values\": 7,\n        \"samples\": [\n          777.0,\n          49.7005148005148,\n          52.0\n        ],\n        \"semantic_type\": \"\",\n        \"description\": \"\"\n      }\n    },\n    {\n      \"column\": \"AverageOfUpperTRange\",\n      \"properties\": {\n        \"dtype\": \"number\",\n        \"std\": 254.3715601726353,\n        \"min\": 7.676983745102925,\n        \"max\": 777.0,\n        \"num_unique_values\": 7,\n        \"samples\": [\n          777.0,\n          68.72303732303733,\n          71.9\n        ],\n        \"semantic_type\": \"\",\n        \"description\": \"\"\n      }\n    },\n    {\n      \"column\": \"MaxOfLowerTRange\",\n      \"properties\": {\n        \"dtype\": \"number\",\n        \"std\": 256.8636668481665,\n        \"min\": 6.647759623356174,\n        \"max\": 777.0,\n        \"num_unique_values\": 8,\n        \"samples\": [\n          59.30939510939511,\n          62.0,\n          777.0\n        ],\n        \"semantic_type\": \"\",\n        \"description\": \"\"\n      }\n    },\n    {\n      \"column\": \"MinOfLowerTRange\",\n      \"properties\": {\n        \"dtype\": \"number\",\n        \"std\": 265.9745411085037,\n        \"min\": 3.209547143202646,\n        \"max\": 777.0,\n        \"num_unique_values\": 7,\n        \"samples\": [\n          777.0,\n          28.690218790218786,\n          30.0\n        ],\n        \"semantic_type\": \"\",\n        \"description\": \"\"\n      }\n    },\n    {\n      \"column\": \"AverageOfLowerTRange\",\n      \"properties\": {\n        \"dtype\": \"number\",\n        \"std\": 260.11181647933597,\n        \"min\": 5.417072346736377,\n        \"max\": 777.0,\n        \"num_unique_values\": 7,\n        \"samples\": [\n          777.0,\n          48.61312741312741,\n          50.8\n        ],\n        \"semantic_type\": \"\",\n        \"description\": \"\"\n      }\n    },\n    {\n      \"column\": \"RainingDays\",\n      \"properties\": {\n        \"dtype\": \"number\",\n        \"std\": 269.4027403400963,\n        \"min\": 1.0,\n        \"max\": 777.0,\n        \"num_unique_values\": 8,\n        \"samples\": [\n          18.309292149292148,\n          16.0,\n          777.0\n        ],\n        \"semantic_type\": \"\",\n        \"description\": \"\"\n      }\n    },\n    {\n      \"column\": \"AverageRainingDays\",\n      \"properties\": {\n        \"dtype\": \"number\",\n        \"std\": 274.6170234781197,\n        \"min\": 0.06,\n        \"max\": 777.0,\n        \"num_unique_values\": 8,\n        \"samples\": [\n          0.32,\n          0.26,\n          777.0\n        ],\n        \"semantic_type\": \"\",\n        \"description\": \"\"\n      }\n    },\n    {\n      \"column\": \"fruitset\",\n      \"properties\": {\n        \"dtype\": \"number\",\n        \"std\": 274.5620155348598,\n        \"min\": 0.07944509028830342,\n        \"max\": 777.0,\n        \"num_unique_values\": 8,\n        \"samples\": [\n          0.5021206032728442,\n          0.508296527,\n          777.0\n        ],\n        \"semantic_type\": \"\",\n        \"description\": \"\"\n      }\n    },\n    {\n      \"column\": \"fruitmass\",\n      \"properties\": {\n        \"dtype\": \"number\",\n        \"std\": 274.5760749392214,\n        \"min\": 0.040332669014262024,\n        \"max\": 777.0,\n        \"num_unique_values\": 8,\n        \"samples\": [\n          0.44598335463577865,\n          0.445587455,\n          777.0\n        ],\n        \"semantic_type\": \"\",\n        \"description\": \"\"\n      }\n    },\n    {\n      \"column\": \"seeds\",\n      \"properties\": {\n        \"dtype\": \"number\",\n        \"std\": 264.0292009359343,\n        \"min\": 4.377888913774912,\n        \"max\": 777.0,\n        \"num_unique_values\": 8,\n        \"samples\": [\n          36.12243156155727,\n          36.16604354,\n          777.0\n        ],\n        \"semantic_type\": \"\",\n        \"description\": \"\"\n      }\n    },\n    {\n      \"column\": \"yield\",\n      \"properties\": {\n        \"dtype\": \"number\",\n        \"std\": 3009.6258093359943,\n        \"min\": 777.0,\n        \"max\": 8969.401842,\n        \"num_unique_values\": 8,\n        \"samples\": [\n          6012.849164670529,\n          6107.382466,\n          777.0\n        ],\n        \"semantic_type\": \"\",\n        \"description\": \"\"\n      }\n    }\n  ]\n}"
            }
          },
          "metadata": {},
          "execution_count": 54
        }
      ]
    },
    {
      "cell_type": "markdown",
      "source": [
        "# **Feature Engineering**"
      ],
      "metadata": {
        "id": "jVaJvefDfGwD"
      }
    },
    {
      "cell_type": "markdown",
      "source": [
        "creating new columns to reduce complexity and introduce efficiency"
      ],
      "metadata": {
        "id": "tsJ1FQMkfJ60"
      }
    },
    {
      "cell_type": "code",
      "source": [
        "data['pollinators']=data['honeybee'] + data['bumbles'] + data['andrena'] + data['osmia']"
      ],
      "metadata": {
        "id": "TIkcFPUbfGTU"
      },
      "execution_count": 55,
      "outputs": []
    },
    {
      "cell_type": "markdown",
      "source": [
        "# **Data Visualization:**\n",
        "(just for myself, to observe the pattern /possible outliers)"
      ],
      "metadata": {
        "id": "Ybpf86MmYp7i"
      }
    },
    {
      "cell_type": "code",
      "source": [
        "plt.plot(data['pollinators'],data['yield'])"
      ],
      "metadata": {
        "colab": {
          "base_uri": "https://localhost:8080/",
          "height": 447
        },
        "id": "cU8xXnFDYYLS",
        "outputId": "ae05d4c8-e991-467a-d1ad-dd0ff8edba86"
      },
      "execution_count": 56,
      "outputs": [
        {
          "output_type": "execute_result",
          "data": {
            "text/plain": [
              "[<matplotlib.lines.Line2D at 0x7d93106619a0>]"
            ]
          },
          "metadata": {},
          "execution_count": 56
        },
        {
          "output_type": "display_data",
          "data": {
            "text/plain": [
              "<Figure size 640x480 with 1 Axes>"
            ],
            "image/png": "[encoded data removed]"
          },
          "metadata": {}
        }
      ]
    },
    {
      "cell_type": "code",
      "source": [
        "sns.scatterplot(x='pollinators', y='yield', data=data)"
      ],
      "metadata": {
        "colab": {
          "base_uri": "https://localhost:8080/",
          "height": 466
        },
        "id": "iTipROTdhhiN",
        "outputId": "544cd8fb-07bd-4550-f1bb-9cbf2d88ac5f"
      },
      "execution_count": 57,
      "outputs": [
        {
          "output_type": "execute_result",
          "data": {
            "text/plain": [
              "<Axes: xlabel='pollinators', ylabel='yield'>"
            ]
          },
          "metadata": {},
          "execution_count": 57
        },
        {
          "output_type": "display_data",
          "data": {
            "text/plain": [
              "<Figure size 640x480 with 1 Axes>"
            ],
            "image/png": "[encoded data removed]"
          },
          "metadata": {}
        }
      ]
    },
    {
      "cell_type": "markdown",
      "source": [
        "# **MODEL IMPLEMENTATION:**"
      ],
      "metadata": {
        "id": "9F-gIi87cTAL"
      }
    },
    {
      "cell_type": "code",
      "source": [
        "# IMPORTING LIBRARIES:\n",
        "from sklearn.model_selection import train_test_split\n",
        "from sklearn.linear_model import LinearRegression\n",
        "from sklearn.tree import DecisionTreeRegressor\n",
        "from sklearn.ensemble import RandomForestRegressor\n",
        "import xgboost as xgb\n",
        "from sklearn.metrics import mean_squared_error, mean_absolute_error, r2_score\n",
        "import numpy as np"
      ],
      "metadata": {
        "id": "lVzfyxxI05JE"
      },
      "execution_count": 58,
      "outputs": []
    },
    {
      "cell_type": "code",
      "source": [
        "X=X = data.drop(columns=['fruitset','fruitmass','seeds','yield'])\n",
        "y = data['yield']\n",
        "X_train,X_test,y_train, y_test=train_test_split(X,y,test_size=0.2,random_state=42 )"
      ],
      "metadata": {
        "id": "eAFHQ4Um06TH"
      },
      "execution_count": 59,
      "outputs": []
    },
    {
      "cell_type": "code",
      "source": [
        "def rmse_calculate(y_test, y_pred):\n",
        "  rmse = np.sqrt(mean_squared_error(y_test, y_pred))\n",
        "  return rmse"
      ],
      "metadata": {
        "id": "s0NGzHHIu7sL"
      },
      "execution_count": 60,
      "outputs": []
    },
    {
      "cell_type": "code",
      "source": [
        "lr_model=LinearRegression()\n",
        "lr_model.fit(X_train, y_train)\n",
        "y_pred = lr_model.predict(X_test)\n",
        "mse = mean_squared_error(y_test, y_pred)\n",
        "mae = mean_absolute_error(y_test, y_pred)\n",
        "r2 = r2_score(y_test, y_pred)\n",
        "\n",
        "print(\"Mean Squared Error in Linear Regression:\", mse)\n",
        "print(\"Mean Absolute Error in Linear Regression:\", mae)\n",
        "print(\"In linear regression RMSE is: \",rmse_calculate(y_test,y_pred))\n",
        "print(\"R² Score:\", r2)\n"
      ],
      "metadata": {
        "colab": {
          "base_uri": "https://localhost:8080/"
        },
        "id": "GlHEF03P-GfJ",
        "outputId": "76ece816-e528-40f7-8a57-5a25d9d95222"
      },
      "execution_count": 61,
      "outputs": [
        {
          "output_type": "stream",
          "name": "stdout",
          "text": [
            "Mean Squared Error in Linear Regression: 180573.7990714774\n",
            "Mean Absolute Error in Linear Regression: 344.6698263610027\n",
            "In linear regression RMSE is:  424.9397593441656\n",
            "R² Score: 0.9070944514053769\n"
          ]
        }
      ]
    },
    {
      "cell_type": "code",
      "source": [
        "model = DecisionTreeRegressor(max_depth=5)\n",
        "model.fit(X_train, y_train)\n",
        "y_pred = model.predict(X_test)\n",
        "\n",
        "mse = mean_squared_error(y_test, y_pred)\n",
        "mae = mean_absolute_error(y_test, y_pred)\n",
        "r2 = r2_score(y_test, y_pred)\n",
        "\n",
        "print(\"Mean Squared Error in Decision Tree Regressor:\", mse)\n",
        "print(\"Mean Absolute Error in Decision Tree Regressor:\", mae)\n",
        "print(\"In Decision Tree Regressor RMSE is: \",rmse_calculate(y_test,y_pred))\n",
        "print(\"R² Score:\", r2)"
      ],
      "metadata": {
        "colab": {
          "base_uri": "https://localhost:8080/"
        },
        "id": "vpVPQNgVTouV",
        "outputId": "e37e47fd-4da6-4638-b801-b8ea7fed7a52"
      },
      "execution_count": 62,
      "outputs": [
        {
          "output_type": "stream",
          "name": "stdout",
          "text": [
            "Mean Squared Error in Decision Tree Regressor: 450288.75496130745\n",
            "Mean Absolute Error in Decision Tree Regressor: 461.55151603532823\n",
            "In Decision Tree Regressor RMSE is:  671.0355839754756\n",
            "R² Score: 0.7683256152288707\n"
          ]
        }
      ]
    },
    {
      "cell_type": "code",
      "source": [
        "model_xg= xgb.XGBRegressor(n_estimators=100, max_depth=5,learning_rate=0.1,random_state=42)\n",
        "model_xg.fit(X_train, y_train)\n",
        "y_pred=model_xg.predict(X_test)\n",
        "\n",
        "mse = mean_squared_error(y_test, y_pred)\n",
        "mae = mean_absolute_error(y_test, y_pred)\n",
        "r2 = r2_score(y_test, y_pred)\n",
        "\n",
        "print(\"Mean Squared Error in XGBoost:\", mse)\n",
        "print(\"Mean Absolute Error in XGBoost:\", mae)\n",
        "print(\"In XGBoost regressor RMSE is: \",rmse_calculate(y_test,y_pred))\n",
        "print(\"R² Score:\", r2)"
      ],
      "metadata": {
        "colab": {
          "base_uri": "https://localhost:8080/"
        },
        "id": "aVX_Hr7rYTFW",
        "outputId": "6a39cf31-035d-48d3-d14e-54db40a3ed4d"
      },
      "execution_count": 63,
      "outputs": [
        {
          "output_type": "stream",
          "name": "stdout",
          "text": [
            "Mean Squared Error in XGBoost: 130804.82330758631\n",
            "Mean Absolute Error in XGBoost: 195.62405691396236\n",
            "In XGBoost regressor RMSE is:  361.6694945770051\n",
            "R² Score: 0.9327006801058461\n"
          ]
        }
      ]
    },
    {
      "cell_type": "code",
      "source": [
        "rfc_model = RandomForestRegressor(n_estimators=100, max_depth=7)\n",
        "rfc_model.fit(X_train, y_train)\n",
        "y_pred = rfc_model.predict(X_test)\n",
        "\n",
        "mse = mean_squared_error(y_test, y_pred)\n",
        "mae = mean_absolute_error(y_test, y_pred)\n",
        "r2 = r2_score(y_test, y_pred)\n",
        "\n",
        "print(\"Mean Squared Error in Random Forest Regressor:\", mse)\n",
        "print(\"Mean Absolute Error in Random Forest Regressor:\", mae)\n",
        "print(\"In Random Forest regressor RMSE is: \",rmse_calculate(y_test,y_pred))\n",
        "print(\"R² Score:\", r2)"
      ],
      "metadata": {
        "colab": {
          "base_uri": "https://localhost:8080/"
        },
        "id": "qXQA2RrmZ0bJ",
        "outputId": "ba2f2fd7-0906-4aae-fb87-b84ba28d88ed"
      },
      "execution_count": 64,
      "outputs": [
        {
          "output_type": "stream",
          "name": "stdout",
          "text": [
            "Mean Squared Error in Random Forest Regressor: 248530.54660245316\n",
            "Mean Absolute Error in Random Forest Regressor: 309.9163672551254\n",
            "In Random Forest regressor RMSE is:  498.52838093979483\n",
            "R² Score: 0.872130580995958\n"
          ]
        }
      ]
    }
  ]
}